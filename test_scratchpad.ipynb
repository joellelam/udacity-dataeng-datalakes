{
 "cells": [
  {
   "cell_type": "markdown",
   "metadata": {},
   "source": [
    "# Test Scratch Baord\n",
    "\n",
    "This is a scratch board for testing the data loaded."
   ]
  },
  {
   "cell_type": "code",
   "execution_count": 1,
   "metadata": {},
   "outputs": [],
   "source": [
    "import configparser\n",
    "import os\n",
    "import datetime\n",
    "\n",
    "from pyspark.sql import SparkSession, functions as F\n",
    "from pyspark.sql.functions import weekofyear, monotonically_increasing_id, udf, col, from_unixtime, year, month, dayofmonth, hour, weekofyear, date_format, to_timestamp, to_date, from_unixtime\n",
    "from pyspark.sql.types import StructType, StructField, DoubleType, IntegerType, StringType"
   ]
  },
  {
   "cell_type": "code",
   "execution_count": 2,
   "metadata": {},
   "outputs": [],
   "source": [
    "config = configparser.ConfigParser()\n",
    "config.read('dl.cfg')\n",
    "\n",
    "os.environ['AWS_ACCESS_KEY_ID']=config['default']['AWS_ACCESS_KEY_ID']\n",
    "os.environ['AWS_SECRET_ACCESS_KEY']=config['default']['AWS_SECRET_ACCESS_KEY']\n",
    "os.environ['region']=config['default']['region']\n",
    "os.environ['region_name']=config['default']['region']"
   ]
  },
  {
   "cell_type": "code",
   "execution_count": 3,
   "metadata": {},
   "outputs": [],
   "source": [
    "spark = SparkSession \\\n",
    "        .builder \\\n",
    "        .config(\"spark.jars.packages\", \"org.apache.hadoop:hadoop-aws:2.7.0\") \\\n",
    "        .getOrCreate()\n",
    "\n",
    "sc=spark.sparkContext\n",
    "hadoop_conf=sc._jsc.hadoopConfiguration()\n",
    "hadoop_conf.set(\"fs.s3n.impl\", \"org.apache.hadoop.fs.s3native.NativeS3FileSystem\")\n",
    "hadoop_conf.set(\"fs.s3n.awsAccessKeyId\", os.environ['AWS_ACCESS_KEY_ID'])\n",
    "hadoop_conf.set(\"fs.s3n.awsSecretAccessKey\", os.environ['AWS_SECRET_ACCESS_KEY'])\n",
    "hadoop_conf.set(\"mapreduce.fileoutputcommitter.algorithm.version\", \"2\")"
   ]
  },
  {
   "cell_type": "code",
   "execution_count": 20,
   "metadata": {},
   "outputs": [
    {
     "data": {
      "text/plain": [
       "71"
      ]
     },
     "execution_count": 20,
     "metadata": {},
     "output_type": "execute_result"
    }
   ],
   "source": [
    "songs_df = spark.read.parquet(\"output_data/songs.parquet\")\n",
    "#songs_df = spark.read.parquet(\"s3n://udacityproject4/songs.parquet\")\n",
    "#songs_df.count()\n",
    "#songs_df.toPandas().describe()\n",
    "songs_df.toPandas().head(4)"
   ]
  },
  {
   "cell_type": "code",
   "execution_count": 24,
   "metadata": {},
   "outputs": [
    {
     "data": {
      "text/plain": [
       "69"
      ]
     },
     "execution_count": 24,
     "metadata": {},
     "output_type": "execute_result"
    }
   ],
   "source": [
    "artists_df = spark.read.parquet(\"output_data/artists.parquet\")\n",
    "#songs_df = spark.read.parquet(\"s3n://udacityproject4/songs.parquet\")\n",
    "artists_df.toPandas().head(4)"
   ]
  },
  {
   "cell_type": "code",
   "execution_count": 26,
   "metadata": {},
   "outputs": [
    {
     "data": {
      "text/plain": [
       "97"
      ]
     },
     "execution_count": 26,
     "metadata": {},
     "output_type": "execute_result"
    }
   ],
   "source": [
    "users_df = spark.read.parquet(\"output_data/users.parquet\")\n",
    "#songs_df = spark.read.parquet(\"s3n://udacityproject4/songs.parquet\")\n",
    "users_df.toPandas().head(3)\n"
   ]
  },
  {
   "cell_type": "code",
   "execution_count": 28,
   "metadata": {},
   "outputs": [
    {
     "data": {
      "text/plain": [
       "8056"
      ]
     },
     "execution_count": 28,
     "metadata": {},
     "output_type": "execute_result"
    }
   ],
   "source": [
    "time_df = spark.read.parquet(\"output_data/time.parquet\")\n",
    "#songs_df = spark.read.parquet(\"s3n://udacityproject4/songs.parquet\")\n",
    "#time_df.toPandas().head(3)\n",
    "time_df.dropDuplicates(['start_time']).count()"
   ]
  },
  {
   "cell_type": "code",
   "execution_count": 11,
   "metadata": {},
   "outputs": [
    {
     "data": {
      "text/html": [
       "<div>\n",
       "<style scoped>\n",
       "    .dataframe tbody tr th:only-of-type {\n",
       "        vertical-align: middle;\n",
       "    }\n",
       "\n",
       "    .dataframe tbody tr th {\n",
       "        vertical-align: top;\n",
       "    }\n",
       "\n",
       "    .dataframe thead th {\n",
       "        text-align: right;\n",
       "    }\n",
       "</style>\n",
       "<table border=\"1\" class=\"dataframe\">\n",
       "  <thead>\n",
       "    <tr style=\"text-align: right;\">\n",
       "      <th></th>\n",
       "      <th>ts</th>\n",
       "      <th>user_id</th>\n",
       "      <th>level</th>\n",
       "      <th>artist</th>\n",
       "      <th>session_id</th>\n",
       "      <th>user_agent</th>\n",
       "      <th>song</th>\n",
       "      <th>start_time</th>\n",
       "      <th>artist_id</th>\n",
       "      <th>artist_latitude</th>\n",
       "      <th>location</th>\n",
       "      <th>artist_longitude</th>\n",
       "      <th>artist_name</th>\n",
       "      <th>duration</th>\n",
       "      <th>num_songs</th>\n",
       "      <th>song_id</th>\n",
       "      <th>title</th>\n",
       "      <th>songplay_id</th>\n",
       "      <th>year</th>\n",
       "      <th>month</th>\n",
       "    </tr>\n",
       "  </thead>\n",
       "  <tbody>\n",
       "    <tr>\n",
       "      <th>0</th>\n",
       "      <td>1542837407796</td>\n",
       "      <td>15</td>\n",
       "      <td>paid</td>\n",
       "      <td>Elena</td>\n",
       "      <td>818</td>\n",
       "      <td>\"Mozilla/5.0 (X11; Linux x86_64) AppleWebKit/5...</td>\n",
       "      <td>Setanta matins</td>\n",
       "      <td>2018-11-21 21:56:47</td>\n",
       "      <td>AR5KOSW1187FB35FF4</td>\n",
       "      <td>49.80388</td>\n",
       "      <td>Dubai UAE</td>\n",
       "      <td>15.47491</td>\n",
       "      <td>Elena</td>\n",
       "      <td>269.58322</td>\n",
       "      <td>1</td>\n",
       "      <td>SOZCTXZ12AB0182364</td>\n",
       "      <td>Setanta matins</td>\n",
       "      <td>0</td>\n",
       "      <td>2018</td>\n",
       "      <td>11</td>\n",
       "    </tr>\n",
       "    <tr>\n",
       "      <th>1</th>\n",
       "      <td>1542171963796</td>\n",
       "      <td>10</td>\n",
       "      <td>free</td>\n",
       "      <td>Percubaba</td>\n",
       "      <td>484</td>\n",
       "      <td>\"Mozilla/5.0 (Macintosh; Intel Mac OS X 10_9_4...</td>\n",
       "      <td>Intro</td>\n",
       "      <td>2018-11-14 05:06:03</td>\n",
       "      <td>AR558FS1187FB45658</td>\n",
       "      <td>NaN</td>\n",
       "      <td></td>\n",
       "      <td>NaN</td>\n",
       "      <td>40 Grit</td>\n",
       "      <td>75.67628</td>\n",
       "      <td>1</td>\n",
       "      <td>SOGDBUF12A8C140FAA</td>\n",
       "      <td>Intro</td>\n",
       "      <td>1</td>\n",
       "      <td>2018</td>\n",
       "      <td>11</td>\n",
       "    </tr>\n",
       "    <tr>\n",
       "      <th>2</th>\n",
       "      <td>1542618860796</td>\n",
       "      <td>24</td>\n",
       "      <td>paid</td>\n",
       "      <td>Calvin Richardson</td>\n",
       "      <td>672</td>\n",
       "      <td>\"Mozilla/5.0 (Windows NT 6.1; WOW64) AppleWebK...</td>\n",
       "      <td>Intro</td>\n",
       "      <td>2018-11-19 09:14:20</td>\n",
       "      <td>AR558FS1187FB45658</td>\n",
       "      <td>NaN</td>\n",
       "      <td></td>\n",
       "      <td>NaN</td>\n",
       "      <td>40 Grit</td>\n",
       "      <td>75.67628</td>\n",
       "      <td>1</td>\n",
       "      <td>SOGDBUF12A8C140FAA</td>\n",
       "      <td>Intro</td>\n",
       "      <td>2</td>\n",
       "      <td>2018</td>\n",
       "      <td>11</td>\n",
       "    </tr>\n",
       "    <tr>\n",
       "      <th>3</th>\n",
       "      <td>1543358159796</td>\n",
       "      <td>80</td>\n",
       "      <td>paid</td>\n",
       "      <td>Samy Deluxe</td>\n",
       "      <td>992</td>\n",
       "      <td>\"Mozilla/5.0 (Macintosh; Intel Mac OS X 10_9_4...</td>\n",
       "      <td>Intro</td>\n",
       "      <td>2018-11-27 22:35:59</td>\n",
       "      <td>AR558FS1187FB45658</td>\n",
       "      <td>NaN</td>\n",
       "      <td></td>\n",
       "      <td>NaN</td>\n",
       "      <td>40 Grit</td>\n",
       "      <td>75.67628</td>\n",
       "      <td>1</td>\n",
       "      <td>SOGDBUF12A8C140FAA</td>\n",
       "      <td>Intro</td>\n",
       "      <td>3</td>\n",
       "      <td>2018</td>\n",
       "      <td>11</td>\n",
       "    </tr>\n",
       "  </tbody>\n",
       "</table>\n",
       "</div>"
      ],
      "text/plain": [
       "              ts user_id level             artist  session_id  \\\n",
       "0  1542837407796      15  paid              Elena         818   \n",
       "1  1542171963796      10  free          Percubaba         484   \n",
       "2  1542618860796      24  paid  Calvin Richardson         672   \n",
       "3  1543358159796      80  paid        Samy Deluxe         992   \n",
       "\n",
       "                                          user_agent            song  \\\n",
       "0  \"Mozilla/5.0 (X11; Linux x86_64) AppleWebKit/5...  Setanta matins   \n",
       "1  \"Mozilla/5.0 (Macintosh; Intel Mac OS X 10_9_4...           Intro   \n",
       "2  \"Mozilla/5.0 (Windows NT 6.1; WOW64) AppleWebK...           Intro   \n",
       "3  \"Mozilla/5.0 (Macintosh; Intel Mac OS X 10_9_4...           Intro   \n",
       "\n",
       "           start_time           artist_id  artist_latitude   location  \\\n",
       "0 2018-11-21 21:56:47  AR5KOSW1187FB35FF4         49.80388  Dubai UAE   \n",
       "1 2018-11-14 05:06:03  AR558FS1187FB45658              NaN              \n",
       "2 2018-11-19 09:14:20  AR558FS1187FB45658              NaN              \n",
       "3 2018-11-27 22:35:59  AR558FS1187FB45658              NaN              \n",
       "\n",
       "   artist_longitude artist_name   duration  num_songs             song_id  \\\n",
       "0          15.47491       Elena  269.58322          1  SOZCTXZ12AB0182364   \n",
       "1               NaN     40 Grit   75.67628          1  SOGDBUF12A8C140FAA   \n",
       "2               NaN     40 Grit   75.67628          1  SOGDBUF12A8C140FAA   \n",
       "3               NaN     40 Grit   75.67628          1  SOGDBUF12A8C140FAA   \n",
       "\n",
       "            title  songplay_id  year  month  \n",
       "0  Setanta matins            0  2018     11  \n",
       "1           Intro            1  2018     11  \n",
       "2           Intro            2  2018     11  \n",
       "3           Intro            3  2018     11  "
      ]
     },
     "execution_count": 11,
     "metadata": {},
     "output_type": "execute_result"
    }
   ],
   "source": [
    "songplays_df = spark.read.parquet(\"output_data/songplays.parquet\")\n",
    "#songs_df = spark.read.parquet(\"s3n://udacityproject4/songs.parquet\")\n",
    "songplays_df.toPandas().head(5)"
   ]
  },
  {
   "cell_type": "code",
   "execution_count": null,
   "metadata": {},
   "outputs": [],
   "source": []
  }
 ],
 "metadata": {
  "kernelspec": {
   "display_name": "Python 3",
   "language": "python",
   "name": "python3"
  },
  "language_info": {
   "codemirror_mode": {
    "name": "ipython",
    "version": 3
   },
   "file_extension": ".py",
   "mimetype": "text/x-python",
   "name": "python",
   "nbconvert_exporter": "python",
   "pygments_lexer": "ipython3",
   "version": "3.6.3"
  }
 },
 "nbformat": 4,
 "nbformat_minor": 2
}
